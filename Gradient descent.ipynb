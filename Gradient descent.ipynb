{
 "cells": [
  {
   "cell_type": "markdown",
   "metadata": {},
   "source": [
    "Single Variable Gradient Descent"
   ]
  },
  {
   "cell_type": "code",
   "execution_count": 4,
   "metadata": {},
   "outputs": [
    {
     "name": "stdout",
     "output_type": "stream",
     "text": [
      "θ0 = 0.09475321533750963, θ1 = 1.9737548787242036\n"
     ]
    },
    {
     "data": {
      "image/png": "[encoded data removed]",
      "text/plain": [
       "<Figure size 640x480 with 1 Axes>"
      ]
     },
     "metadata": {},
     "output_type": "display_data"
    }
   ],
   "source": [
    "import numpy as np\n",
    "import matplotlib.pyplot as plt\n",
    "\n",
    "\n",
    "x = np.array([1, 2, 3, 4, 5])\n",
    "y = np.array([2, 4, 6, 8, 10])\n",
    "\n",
    "theta0 = 0\n",
    "theta1 = 0\n",
    "learning_rate = 0.01\n",
    "epochs = 1000  \n",
    "\n",
    "m = len(x)  \n",
    "\n",
    "for _ in range(epochs):\n",
    "    y_pred = theta0 + theta1 * x\n",
    "    error = y_pred - y\n",
    "    \n",
    "    gradient_theta0 = np.sum(error) / m\n",
    "    gradient_theta1 = np.sum(error * x) / m\n",
    "\n",
    "    theta0 -= learning_rate * gradient_theta0\n",
    "    theta1 -= learning_rate * gradient_theta1\n",
    "\n",
    "print(f\"θ0 = {theta0}, θ1 = {theta1}\")\n",
    "\n",
    "plt.scatter(x, y, label=\"Actual Data\")\n",
    "plt.plot(x, theta0 + theta1 * x, color='red', label=\"Regression Line\")\n",
    "plt.legend()\n",
    "plt.show()\n"
   ]
  },
  {
   "cell_type": "markdown",
   "metadata": {},
   "source": [
    " Batch Gradient Descent (BGD)"
   ]
  },
  {
   "cell_type": "code",
   "execution_count": 5,
   "metadata": {},
   "outputs": [
    {
     "name": "stdout",
     "output_type": "stream",
     "text": [
      " last cofficients: [3.87025471 3.1368148  1.92006748 1.78310638]\n"
     ]
    }
   ],
   "source": [
    "import numpy as np\n",
    "\n",
    "np.random.seed(42)\n",
    "m = 100  \n",
    "n = 3      \n",
    "\n",
    "X = np.random.rand(m, n)  \n",
    "y = 4 + 3 * X[:, 0] + 2 * X[:, 1] + 1.5 * X[:, 2] + np.random.randn(m) * 0.5  \n",
    "\n",
    "\n",
    "X = np.c_[np.ones((m, 1)), X]\n",
    "\n",
    "theta = np.zeros(n + 1)\n",
    "learning_rate = 0.1\n",
    "epochs = 1000\n",
    "\n",
    "for _ in range(epochs):\n",
    "    gradients = (1/m) * X.T.dot(X.dot(theta) - y)\n",
    "    theta -= learning_rate * gradients\n",
    "\n",
    "print(f\" last cofficients: {theta}\")\n"
   ]
  },
  {
   "cell_type": "markdown",
   "metadata": {},
   "source": [
    "Stochastic Gradient Descent (SGD)"
   ]
  },
  {
   "cell_type": "code",
   "execution_count": 6,
   "metadata": {},
   "outputs": [
    {
     "name": "stdout",
     "output_type": "stream",
     "text": [
      " last cofficients:[3.99524234 3.15758663 1.98249118 1.80718332]\n"
     ]
    }
   ],
   "source": [
    "import numpy as np\n",
    "\n",
    "np.random.seed(42)\n",
    "m, n = 100, 3\n",
    "X = np.random.rand(m, n)\n",
    "y = 4 + 3 * X[:, 0] + 2 * X[:, 1] + 1.5 * X[:, 2] + np.random.randn(m) * 0.5\n",
    "X = np.c_[np.ones((m, 1)), X]\n",
    "\n",
    "theta = np.zeros(n + 1)\n",
    "learning_rate = 0.01\n",
    "epochs = 50\n",
    "\n",
    "for _ in range(epochs):\n",
    "    for i in range(m):\n",
    "        random_index = np.random.randint(m)\n",
    "        xi = X[random_index:random_index+1]\n",
    "        yi = y[random_index:random_index+1]\n",
    "        gradients = 2 * xi.T.dot(xi.dot(theta) - yi)\n",
    "        theta -= learning_rate * gradients\n",
    "\n",
    "print(f\" last cofficients:{theta}\")\n"
   ]
  },
  {
   "cell_type": "markdown",
   "metadata": {},
   "source": [
    "Mini-Batch Gradient Descent"
   ]
  },
  {
   "cell_type": "code",
   "execution_count": 7,
   "metadata": {},
   "outputs": [
    {
     "name": "stdout",
     "output_type": "stream",
     "text": [
      "last cofficients : [4.04468031 2.39344376 2.10640422 1.96184343]\n"
     ]
    }
   ],
   "source": [
    "import numpy as np\n",
    "\n",
    "np.random.seed(42)\n",
    "m, n = 100, 3\n",
    "X = np.random.rand(m, n)\n",
    "y = 4 + 3 * X[:, 0] + 2 * X[:, 1] + 1.5 * X[:, 2] + np.random.randn(m) * 0.5\n",
    "X = np.c_[np.ones((m, 1)), X]\n",
    "\n",
    "theta = np.zeros(n + 1)\n",
    "learning_rate = 0.01\n",
    "epochs = 50\n",
    "batch_size = 10  \n",
    "\n",
    "for _ in range(epochs):\n",
    "    indices = np.random.permutation(m)\n",
    "    X_shuffled = X[indices]\n",
    "    y_shuffled = y[indices]\n",
    "    \n",
    "    for i in range(0, m, batch_size):\n",
    "        X_mini = X_shuffled[i:i+batch_size]\n",
    "        y_mini = y_shuffled[i:i+batch_size]\n",
    "        gradients = (1/batch_size) * X_mini.T.dot(X_mini.dot(theta) - y_mini)\n",
    "        theta -= learning_rate * gradients\n",
    "\n",
    "print(f\"last cofficients : {theta}\")\n"
   ]
  },
  {
   "cell_type": "code",
   "execution_count": null,
   "metadata": {},
   "outputs": [],
   "source": []
  },
  {
   "cell_type": "code",
   "execution_count": null,
   "metadata": {},
   "outputs": [],
   "source": []
  },
  {
   "cell_type": "code",
   "execution_count": null,
   "metadata": {},
   "outputs": [],
   "source": []
  }
 ],
 "metadata": {
  "language_info": {
   "name": "python"
  }
 },
 "nbformat": 4,
 "nbformat_minor": 2
}
